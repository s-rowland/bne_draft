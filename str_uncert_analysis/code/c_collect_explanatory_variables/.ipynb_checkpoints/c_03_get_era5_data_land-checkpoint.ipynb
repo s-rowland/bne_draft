{
 "cells": [
  {
   "cell_type": "markdown",
   "metadata": {
    "colab": {
     "base_uri": "https://localhost:8080/"
    },
    "id": "v0m8xce2x8ZC",
    "outputId": "817c403f-83a9-4401-9c9b-68c2439f35ff"
   },
   "source": [
    "# Downloadining Explanatory Variables from ERA5"
   ]
  },
  {
   "cell_type": "markdown",
   "metadata": {},
   "source": [
    "## 0 Preparation "
   ]
  },
  {
   "cell_type": "code",
   "execution_count": 1,
   "metadata": {},
   "outputs": [],
   "source": [
    "import os\n",
    "import cdsapi"
   ]
  },
  {
   "cell_type": "code",
   "execution_count": 3,
   "metadata": {},
   "outputs": [],
   "source": [
    "# 1c set up directory \n",
    "# 1c.i define directory to place files\n",
    "home = os.getenv(\"HOME\")\n",
    "path = home + '/Desktop/BNE/bne_draft/str_uncert_analysis/data/explanatory_variables/raw/era5/'\n",
    "\n",
    "# 1c.ii check if file directory exists\n",
    "if not os.path.exists(path):\n",
    "    os.makedirs(path)\n",
    "\n",
    "# 1c.iii change directory to desired file location\n",
    "os.chdir(path)"
   ]
  },
  {
   "cell_type": "markdown",
   "metadata": {},
   "source": [
    "## 1 Doing Stuff"
   ]
  },
  {
   "cell_type": "code",
   "execution_count": 5,
   "metadata": {
    "scrolled": true
   },
   "outputs": [
    {
     "name": "stdout",
     "output_type": "stream",
     "text": [
      "=========================================================\n",
      "Downloading 2009-01\n"
     ]
    },
    {
     "name": "stderr",
     "output_type": "stream",
     "text": [
      "2022-02-16 22:15:40,908 INFO Welcome to the CDS\n",
      "2022-02-16 22:15:40,909 INFO Sending request to https://cds.climate.copernicus.eu/api/v2/resources/reanalysis-era5-land\n",
      "2022-02-16 22:15:40,998 INFO Request is queued\n",
      "2022-02-16 23:02:11,715 INFO Request is running\n",
      "2022-02-16 23:04:12,295 INFO Request is completed\n",
      "2022-02-16 23:04:12,296 INFO Downloading https://download-0006.copernicus-climate.eu/cache-compute-0006/cache/data7/adaptor.mars.internal-1645070463.1053114-14341-6-ce5467f8-7a53-409b-9342-6fe29086fb91.grib to 2009_01_land.grib (206.8M)\n",
      "2022-02-16 23:05:48,390 INFO Download rate 2.2M/s  \n",
      "2022-02-16 23:05:48,848 INFO Welcome to the CDS\n",
      "2022-02-16 23:05:48,849 INFO Sending request to https://cds.climate.copernicus.eu/api/v2/resources/reanalysis-era5-land\n",
      "2022-02-16 23:05:48,934 INFO Request is queued\n"
     ]
    },
    {
     "name": "stdout",
     "output_type": "stream",
     "text": [
      "=========================================================\n",
      "Downloading 2009-02\n"
     ]
    },
    {
     "name": "stderr",
     "output_type": "stream",
     "text": [
      "2022-02-16 23:46:17,806 INFO Request is running\n",
      "2022-02-16 23:50:18,952 INFO Request is completed\n",
      "2022-02-16 23:50:18,953 INFO Downloading https://download-0012.copernicus-climate.eu/cache-compute-0012/cache/data9/adaptor.mars.internal-1645073176.286192-25538-18-e7275840-8d6d-4910-8bd5-3904e1d1661d.grib to 2009_02_land.grib (186.8M)\n",
      "2022-02-16 23:51:14,407 INFO Download rate 3.4M/s  \n",
      "2022-02-16 23:51:14,752 INFO Welcome to the CDS\n",
      "2022-02-16 23:51:14,753 INFO Sending request to https://cds.climate.copernicus.eu/api/v2/resources/reanalysis-era5-land\n",
      "2022-02-16 23:51:14,842 INFO Request is queued\n"
     ]
    },
    {
     "name": "stdout",
     "output_type": "stream",
     "text": [
      "=========================================================\n",
      "Downloading 2009-03\n"
     ]
    },
    {
     "name": "stderr",
     "output_type": "stream",
     "text": [
      "2022-02-17 00:23:41,774 INFO Request is running\n",
      "2022-02-17 00:25:42,372 INFO Request is completed\n",
      "2022-02-17 00:25:42,373 INFO Downloading https://download-0005.copernicus-climate.eu/cache-compute-0005/cache/data5/adaptor.mars.internal-1645075310.374757-4631-14-80dec4cf-5ce6-4ea9-89bf-245fc344a79f.grib to 2009_03_land.grib (206.8M)\n",
      "2022-02-17 00:27:13,797 INFO Download rate 2.3M/s  \n",
      "2022-02-17 00:27:14,393 INFO Welcome to the CDS\n",
      "2022-02-17 00:27:14,394 INFO Sending request to https://cds.climate.copernicus.eu/api/v2/resources/reanalysis-era5-land\n",
      "2022-02-17 00:27:14,490 INFO Request is queued\n"
     ]
    },
    {
     "name": "stdout",
     "output_type": "stream",
     "text": [
      "=========================================================\n",
      "Downloading 2009-04\n"
     ]
    },
    {
     "name": "stderr",
     "output_type": "stream",
     "text": [
      "2022-02-17 00:59:41,863 INFO Request is running\n",
      "2022-02-17 01:01:42,455 INFO Request is completed\n",
      "2022-02-17 01:01:42,456 INFO Downloading https://download-0007.copernicus-climate.eu/cache-compute-0007/cache/data1/adaptor.mars.internal-1645077462.9191277-30707-7-d27ef4f4-07d4-4337-b04a-101aad6e84e4.grib to 2009_04_land.grib (200.1M)\n",
      "2022-02-17 01:03:51,702 INFO Download rate 1.5M/s  \n",
      "2022-02-17 01:03:52,342 INFO Welcome to the CDS\n",
      "2022-02-17 01:03:52,342 INFO Sending request to https://cds.climate.copernicus.eu/api/v2/resources/reanalysis-era5-land\n"
     ]
    },
    {
     "name": "stdout",
     "output_type": "stream",
     "text": [
      "=========================================================\n",
      "Downloading 2009-05\n"
     ]
    },
    {
     "name": "stderr",
     "output_type": "stream",
     "text": [
      "2022-02-17 01:03:52,494 INFO Request is queued\n",
      "2022-02-17 01:30:17,862 INFO Request is running\n",
      "2022-02-17 01:32:18,448 INFO Request is completed\n",
      "2022-02-17 01:32:18,449 INFO Downloading https://download-0000.copernicus-climate.eu/cache-compute-0000/cache/data8/adaptor.mars.internal-1645079382.8043435-22289-10-5ffac7aa-5c5b-4979-9f0b-bf83e26ee42e.grib to 2009_05_land.grib (206.8M)\n",
      "2022-02-17 01:34:19,960 INFO Download rate 1.7M/s  \n",
      "2022-02-17 01:34:20,448 INFO Welcome to the CDS\n",
      "2022-02-17 01:34:20,448 INFO Sending request to https://cds.climate.copernicus.eu/api/v2/resources/reanalysis-era5-land\n",
      "2022-02-17 01:34:20,544 INFO Request is queued\n"
     ]
    },
    {
     "name": "stdout",
     "output_type": "stream",
     "text": [
      "=========================================================\n",
      "Downloading 2009-06\n"
     ]
    },
    {
     "name": "stderr",
     "output_type": "stream",
     "text": [
      "2022-02-17 01:58:46,118 INFO Request is running\n",
      "2022-02-17 02:00:46,708 INFO Request is completed\n",
      "2022-02-17 02:00:46,709 INFO Downloading https://download-0006.copernicus-climate.eu/cache-compute-0006/cache/data8/adaptor.mars.internal-1645081072.8150473-30237-15-43b84b9a-21da-4094-8cf1-38cd24c72b89.grib to 2009_06_land.grib (200.1M)\n",
      "2022-02-17 02:02:43,087 INFO Download rate 1.7M/s    \n",
      "2022-02-17 02:02:43,710 INFO Welcome to the CDS\n",
      "2022-02-17 02:02:43,710 INFO Sending request to https://cds.climate.copernicus.eu/api/v2/resources/reanalysis-era5-land\n",
      "2022-02-17 02:02:43,798 INFO Request is queued\n"
     ]
    },
    {
     "name": "stdout",
     "output_type": "stream",
     "text": [
      "=========================================================\n",
      "Downloading 2009-07\n"
     ]
    },
    {
     "name": "stderr",
     "output_type": "stream",
     "text": [
      "2022-02-17 02:23:07,711 INFO Request is running\n",
      "2022-02-17 02:27:08,906 INFO Request is completed\n",
      "2022-02-17 02:27:08,907 INFO Downloading https://download-0009.copernicus-climate.eu/cache-compute-0009/cache/data0/adaptor.mars.internal-1645082574.2935195-5157-10-c21bba04-d868-4141-a874-45d7b026d29a.grib to 2009_07_land.grib (206.8M)\n",
      "2022-02-17 02:29:11,706 INFO Download rate 1.7M/s  \n",
      "2022-02-17 02:29:12,332 INFO Welcome to the CDS\n",
      "2022-02-17 02:29:12,333 INFO Sending request to https://cds.climate.copernicus.eu/api/v2/resources/reanalysis-era5-land\n",
      "2022-02-17 02:29:12,422 INFO Request is queued\n"
     ]
    },
    {
     "name": "stdout",
     "output_type": "stream",
     "text": [
      "=========================================================\n",
      "Downloading 2009-08\n"
     ]
    },
    {
     "name": "stderr",
     "output_type": "stream",
     "text": [
      "2022-02-17 02:51:36,933 INFO Request is running\n",
      "2022-02-17 02:53:37,451 INFO Request is completed\n",
      "2022-02-17 02:53:37,452 INFO Downloading https://download-0003.copernicus-climate.eu/cache-compute-0003/cache/data4/adaptor.mars.internal-1645084226.9939601-27008-11-4a2ea917-69b1-4a05-b81a-fa3fde0777ec.grib to 2009_08_land.grib (206.8M)\n",
      "2022-02-17 02:55:34,017 INFO Download rate 1.8M/s    \n",
      "2022-02-17 02:55:34,657 INFO Welcome to the CDS\n",
      "2022-02-17 02:55:34,658 INFO Sending request to https://cds.climate.copernicus.eu/api/v2/resources/reanalysis-era5-land\n"
     ]
    },
    {
     "name": "stdout",
     "output_type": "stream",
     "text": [
      "=========================================================\n",
      "Downloading 2009-09\n"
     ]
    },
    {
     "name": "stderr",
     "output_type": "stream",
     "text": [
      "2022-02-17 02:55:34,984 INFO Request is queued\n",
      "2022-02-17 03:26:01,412 INFO Request is running\n",
      "2022-02-17 03:28:01,820 INFO Request is completed\n",
      "2022-02-17 03:28:01,821 INFO Downloading https://download-0002.copernicus-climate.eu/cache-compute-0002/cache/data4/adaptor.mars.internal-1645086272.4936278-6460-3-f2c8a393-6fb9-4cd3-99ca-3a0e823f28b2.grib to 2009_09_land.grib (200.1M)\n",
      "2022-02-17 03:29:51,772 INFO Download rate 1.8M/s  \n",
      "2022-02-17 03:29:52,253 INFO Welcome to the CDS\n",
      "2022-02-17 03:29:52,254 INFO Sending request to https://cds.climate.copernicus.eu/api/v2/resources/reanalysis-era5-land\n",
      "2022-02-17 03:29:52,339 INFO Request is queued\n"
     ]
    },
    {
     "name": "stdout",
     "output_type": "stream",
     "text": [
      "=========================================================\n",
      "Downloading 2009-10\n"
     ]
    },
    {
     "name": "stderr",
     "output_type": "stream",
     "text": [
      "2022-02-17 04:06:21,000 INFO Request is running\n",
      "2022-02-17 04:08:21,337 INFO Request is completed\n",
      "2022-02-17 04:08:21,338 INFO Downloading https://download-0003.copernicus-climate.eu/cache-compute-0003/cache/data9/adaptor.mars.internal-1645088718.819831-22663-18-ea94904c-4bec-491c-9720-440334537307.grib to 2009_10_land.grib (206.8M)\n",
      "2022-02-17 04:09:51,869 INFO Download rate 2.3M/s  \n",
      "2022-02-17 04:09:52,352 INFO Welcome to the CDS\n",
      "2022-02-17 04:09:52,352 INFO Sending request to https://cds.climate.copernicus.eu/api/v2/resources/reanalysis-era5-land\n",
      "2022-02-17 04:09:52,437 INFO Request is queued\n"
     ]
    },
    {
     "name": "stdout",
     "output_type": "stream",
     "text": [
      "=========================================================\n",
      "Downloading 2009-11\n"
     ]
    },
    {
     "name": "stderr",
     "output_type": "stream",
     "text": [
      "2022-02-17 04:42:19,257 INFO Request is running\n",
      "2022-02-17 04:44:19,766 INFO Request is completed\n",
      "2022-02-17 04:44:19,767 INFO Downloading https://download-0011.copernicus-climate.eu/cache-compute-0011/cache/data5/adaptor.mars.internal-1645090885.5609915-26357-2-0302a3c4-0a34-4092-aef6-30262b736e6b.grib to 2009_11_land.grib (200.1M)\n",
      "2022-02-17 04:46:11,979 INFO Download rate 1.8M/s  \n",
      "2022-02-17 04:46:12,501 INFO Welcome to the CDS\n",
      "2022-02-17 04:46:12,502 INFO Sending request to https://cds.climate.copernicus.eu/api/v2/resources/reanalysis-era5-land\n",
      "2022-02-17 04:46:12,592 INFO Request is queued\n"
     ]
    },
    {
     "name": "stdout",
     "output_type": "stream",
     "text": [
      "=========================================================\n",
      "Downloading 2009-12\n"
     ]
    },
    {
     "name": "stderr",
     "output_type": "stream",
     "text": [
      "2022-02-17 05:20:40,175 INFO Request is running\n",
      "2022-02-17 05:22:40,740 INFO Request is completed\n",
      "2022-02-17 05:22:40,741 INFO Downloading https://download-0001.copernicus-climate.eu/cache-compute-0001/cache/data4/adaptor.mars.internal-1645093192.9111016-17738-2-6c454dc0-51be-4de9-8397-48ff3ca2f2b8.grib to 2009_12_land.grib (206.8M)\n",
      "2022-02-17 05:24:34,253 INFO Download rate 1.8M/s  \n"
     ]
    }
   ],
   "source": [
    "\n",
    " \n",
    "c = cdsapi.Client()\n",
    " \n",
    "first_year = 2008\n",
    "last_year = 2008\n",
    "land_name = 'land'\n",
    " \n",
    "for year in range(first_year, last_year + 1):\n",
    "    for month in range(1, 13):\n",
    "        print(\"=========================================================\")\n",
    "        print(\"Downloading {year}-{month:02d}\".format(year=year, month=month))\n",
    "        c.retrieve(\n",
    "            'reanalysis-era5-land',\n",
    "            {\n",
    "                'variable': [\n",
    "                    '10m_u_component_of_wind', '10m_v_component_of_wind', '2m_dewpoint_temperature',\n",
    "                    '2m_temperature', 'forecast_albedo', 'surface_pressure',\n",
    "                    'total_precipitation',\n",
    "                ],\n",
    "                'year': str(year),\n",
    "                'month': \"{month:02d}\".format(month=month),\n",
    "                'day': [\n",
    "                    '01', '02', '03',\n",
    "                    '04', '05', '06',\n",
    "                    '07', '08', '09',\n",
    "                    '10', '11', '12',\n",
    "                    '13', '14', '15',\n",
    "                    '16', '17', '18',\n",
    "                    '19', '20', '21',\n",
    "                    '22', '23', '24',\n",
    "                    '25', '26', '27',\n",
    "                    '28', '29', '30',\n",
    "                    '31',\n",
    "                ],\n",
    "                'time': [\n",
    "                    '00:00', '06:00', '12:00',\n",
    "                    '18:00',\n",
    "                ],\n",
    "                'area': [\n",
    "                    50, -125, 24,-66,\n",
    "                ],\n",
    "                'format': 'grib',\n",
    "            },\n",
    "            \"{year}_{month:02d}_land.grib\".format(year=year, month=month))"
   ]
  },
  {
   "cell_type": "code",
   "execution_count": null,
   "metadata": {},
   "outputs": [],
   "source": []
  }
 ],
 "metadata": {
  "colab": {
   "collapsed_sections": [],
   "name": "BNE TFP Demo.ipynb",
   "provenance": []
  },
  "kernelspec": {
   "display_name": "Python 3",
   "language": "python",
   "name": "python3"
  },
  "language_info": {
   "codemirror_mode": {
    "name": "ipython",
    "version": 3
   },
   "file_extension": ".py",
   "mimetype": "text/x-python",
   "name": "python",
   "nbconvert_exporter": "python",
   "pygments_lexer": "ipython3",
   "version": "3.8.5"
  }
 },
 "nbformat": 4,
 "nbformat_minor": 1
}
