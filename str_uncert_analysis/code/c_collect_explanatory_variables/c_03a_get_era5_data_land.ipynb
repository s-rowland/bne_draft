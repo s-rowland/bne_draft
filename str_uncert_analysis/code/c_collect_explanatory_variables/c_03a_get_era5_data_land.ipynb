{
 "cells": [
  {
   "cell_type": "markdown",
   "metadata": {
    "colab": {
     "base_uri": "https://localhost:8080/"
    },
    "id": "v0m8xce2x8ZC",
    "outputId": "817c403f-83a9-4401-9c9b-68c2439f35ff"
   },
   "source": [
    "# Downloadining Explanatory Variables from ERA5"
   ]
  },
  {
   "cell_type": "markdown",
   "metadata": {},
   "source": [
    "## 0 Preparation "
   ]
  },
  {
   "cell_type": "code",
   "execution_count": 1,
   "metadata": {},
   "outputs": [],
   "source": [
    "import os\n",
    "import cdsapi"
   ]
  },
  {
   "cell_type": "code",
   "execution_count": 2,
   "metadata": {},
   "outputs": [],
   "source": [
    "# 1c set up directory \n",
    "# 1c.i define directory to place files\n",
    "home = os.getenv(\"HOME\")\n",
    "path = home + '/Desktop/BNE/bne_draft/str_uncert_analysis/data/explanatory_variables/raw/era5/'\n",
    "\n",
    "# 1c.ii check if file directory exists\n",
    "if not os.path.exists(path):\n",
    "    os.makedirs(path)\n",
    "\n",
    "# 1c.iii change directory to desired file location\n",
    "os.chdir(path)"
   ]
  },
  {
   "cell_type": "markdown",
   "metadata": {},
   "source": [
    "## 1 Doing Stuff"
   ]
  },
  {
   "cell_type": "code",
   "execution_count": 6,
   "metadata": {
    "scrolled": true
   },
   "outputs": [
    {
     "name": "stdout",
     "output_type": "stream",
     "text": [
      "=========================================================\n",
      "Downloading 2016-06\n"
     ]
    },
    {
     "name": "stderr",
     "output_type": "stream",
     "text": [
      "2022-04-03 13:05:38,748 INFO Welcome to the CDS\n",
      "2022-04-03 13:05:38,749 INFO Sending request to https://cds.climate.copernicus.eu/api/v2/resources/reanalysis-era5-land\n",
      "2022-04-03 13:05:38,874 INFO Request is queued\n",
      "2022-04-03 13:05:40,038 INFO Request is running\n",
      "2022-04-03 13:08:31,493 INFO Request is completed\n",
      "2022-04-03 13:08:31,494 INFO Downloading https://download-0008-clone.copernicus-climate.eu/cache-compute-0008/cache/data1/adaptor.mars.internal-1649005539.8541577-3066-20-a515f483-7395-42f5-8304-3d3e0d74f9c3.grib to 2016_06_land.grib (200.1M)\n",
      "2022-04-03 13:09:16,021 INFO Download rate 4.5M/s  \n",
      "2022-04-03 13:09:16,264 INFO Welcome to the CDS\n",
      "2022-04-03 13:09:16,265 INFO Sending request to https://cds.climate.copernicus.eu/api/v2/resources/reanalysis-era5-land\n"
     ]
    },
    {
     "name": "stdout",
     "output_type": "stream",
     "text": [
      "=========================================================\n",
      "Downloading 2016-07\n"
     ]
    },
    {
     "name": "stderr",
     "output_type": "stream",
     "text": [
      "2022-04-03 13:09:16,391 INFO Request is queued\n",
      "2022-04-03 13:09:17,524 INFO Request is running\n",
      "2022-04-03 13:12:08,845 INFO Request is completed\n",
      "2022-04-03 13:12:08,847 INFO Downloading https://download-0000-clone.copernicus-climate.eu/cache-compute-0000/cache/data4/adaptor.mars.internal-1649005748.7030022-14572-12-01f9e20f-f108-4765-8596-6653a9952569.grib to 2016_07_land.grib (206.8M)\n",
      "2022-04-03 13:12:54,326 INFO Download rate 4.5M/s  \n",
      "2022-04-03 13:12:54,566 INFO Welcome to the CDS\n",
      "2022-04-03 13:12:54,566 INFO Sending request to https://cds.climate.copernicus.eu/api/v2/resources/reanalysis-era5-land\n"
     ]
    },
    {
     "name": "stdout",
     "output_type": "stream",
     "text": [
      "=========================================================\n",
      "Downloading 2016-08\n"
     ]
    },
    {
     "name": "stderr",
     "output_type": "stream",
     "text": [
      "2022-04-03 13:12:54,703 INFO Request is queued\n",
      "2022-04-03 13:12:55,829 INFO Request is running\n",
      "2022-04-03 13:15:47,105 INFO Request is completed\n",
      "2022-04-03 13:15:47,106 INFO Downloading https://download-0006-clone.copernicus-climate.eu/cache-compute-0006/cache/data7/adaptor.mars.internal-1649005974.738112-30869-8-874742d4-dda4-43f0-953d-36e7fb6d845e.grib to 2016_08_land.grib (206.8M)\n",
      "2022-04-03 13:16:29,851 INFO Download rate 4.8M/s  \n",
      "2022-04-03 13:16:30,089 INFO Welcome to the CDS\n",
      "2022-04-03 13:16:30,091 INFO Sending request to https://cds.climate.copernicus.eu/api/v2/resources/reanalysis-era5-land\n"
     ]
    },
    {
     "name": "stdout",
     "output_type": "stream",
     "text": [
      "=========================================================\n",
      "Downloading 2016-09\n"
     ]
    },
    {
     "name": "stderr",
     "output_type": "stream",
     "text": [
      "2022-04-03 13:16:30,218 INFO Request is queued\n",
      "2022-04-03 13:16:31,343 INFO Request is running\n",
      "2022-04-03 13:19:22,624 INFO Request is completed\n",
      "2022-04-03 13:19:22,625 INFO Downloading https://download-0015-clone.copernicus-climate.eu/cache-compute-0015/cache/data9/adaptor.mars.internal-1649006190.2309775-20762-5-e664b69c-0a80-46f1-b1ac-53dd4976f043.grib to 2016_09_land.grib (200.1M)\n",
      "2022-04-03 13:20:04,326 INFO Download rate 4.8M/s  \n",
      "2022-04-03 13:20:04,569 INFO Welcome to the CDS\n",
      "2022-04-03 13:20:04,570 INFO Sending request to https://cds.climate.copernicus.eu/api/v2/resources/reanalysis-era5-land\n"
     ]
    },
    {
     "name": "stdout",
     "output_type": "stream",
     "text": [
      "=========================================================\n",
      "Downloading 2016-10\n"
     ]
    },
    {
     "name": "stderr",
     "output_type": "stream",
     "text": [
      "2022-04-03 13:20:04,696 INFO Request is queued\n",
      "2022-04-03 13:20:05,825 INFO Request is running\n",
      "2022-04-03 13:22:57,094 INFO Request is completed\n",
      "2022-04-03 13:22:57,096 INFO Downloading https://download-0007-clone.copernicus-climate.eu/cache-compute-0007/cache/data8/adaptor.mars.internal-1649006404.7092803-3984-5-45e2d8e4-bc65-4ed0-a4e2-699083931b4c.grib to 2016_10_land.grib (206.8M)\n",
      "2022-04-03 13:23:39,271 INFO Download rate 4.9M/s  \n",
      "2022-04-03 13:23:39,509 INFO Welcome to the CDS\n",
      "2022-04-03 13:23:39,511 INFO Sending request to https://cds.climate.copernicus.eu/api/v2/resources/reanalysis-era5-land\n"
     ]
    },
    {
     "name": "stdout",
     "output_type": "stream",
     "text": [
      "=========================================================\n",
      "Downloading 2016-11\n"
     ]
    },
    {
     "name": "stderr",
     "output_type": "stream",
     "text": [
      "2022-04-03 13:23:39,633 INFO Request is queued\n",
      "2022-04-03 13:23:40,759 INFO Request is running\n",
      "2022-04-03 13:26:32,019 INFO Request is completed\n",
      "2022-04-03 13:26:32,020 INFO Downloading https://download-0015-clone.copernicus-climate.eu/cache-compute-0015/cache/data6/adaptor.mars.internal-1649006619.8625338-22979-1-1d3c2bbd-7c60-4f0f-92df-b68375e7f408.grib to 2016_11_land.grib (200.1M)\n",
      "2022-04-03 13:27:20,496 INFO Download rate 4.1M/s  \n",
      "2022-04-03 13:27:20,747 INFO Welcome to the CDS\n",
      "2022-04-03 13:27:20,748 INFO Sending request to https://cds.climate.copernicus.eu/api/v2/resources/reanalysis-era5-land\n"
     ]
    },
    {
     "name": "stdout",
     "output_type": "stream",
     "text": [
      "=========================================================\n",
      "Downloading 2016-12\n"
     ]
    },
    {
     "name": "stderr",
     "output_type": "stream",
     "text": [
      "2022-04-03 13:27:20,876 INFO Request is queued\n",
      "2022-04-03 13:27:22,010 INFO Request is running\n",
      "2022-04-03 13:30:13,294 INFO Request is completed\n",
      "2022-04-03 13:30:13,296 INFO Downloading https://download-0005-clone.copernicus-climate.eu/cache-compute-0005/cache/data9/adaptor.mars.internal-1649006840.8615344-24092-19-f09bf0af-aee7-458f-9998-13d9a7ddbfb2.grib to 2016_12_land.grib (206.8M)\n",
      "2022-04-03 13:31:05,433 INFO Download rate 4M/s    \n"
     ]
    }
   ],
   "source": [
    "\n",
    " \n",
    "c = cdsapi.Client()\n",
    " \n",
    "first_year = 2016\n",
    "last_year = 2016\n",
    "land_name = 'land'\n",
    " \n",
    "for year in range(first_year, last_year + 1):\n",
    "    for month in range(6, 13):\n",
    "        print(\"=========================================================\")\n",
    "        print(\"Downloading {year}-{month:02d}\".format(year=year, month=month))\n",
    "        c.retrieve(\n",
    "            'reanalysis-era5-land',\n",
    "            {\n",
    "                'variable': [\n",
    "                    '10m_u_component_of_wind', '10m_v_component_of_wind', '2m_dewpoint_temperature',\n",
    "                    '2m_temperature', 'forecast_albedo', 'surface_pressure',\n",
    "                    'total_precipitation',\n",
    "                ],\n",
    "                'year': str(year),\n",
    "                'month': \"{month:02d}\".format(month=month),\n",
    "                'day': [\n",
    "                    '01', '02', '03',\n",
    "                    '04', '05', '06',\n",
    "                    '07', '08', '09',\n",
    "                    '10', '11', '12',\n",
    "                    '13', '14', '15',\n",
    "                    '16', '17', '18',\n",
    "                    '19', '20', '21',\n",
    "                    '22', '23', '24',\n",
    "                    '25', '26', '27',\n",
    "                    '28', '29', '30',\n",
    "                    '31',\n",
    "                ],\n",
    "                'time': [\n",
    "                    '00:00', '06:00', '12:00',\n",
    "                    '18:00',\n",
    "                ],\n",
    "                'area': [\n",
    "                    50, -125, 24,-66,\n",
    "                ],\n",
    "                'format': 'grib',\n",
    "            },\n",
    "            \"{year}_{month:02d}_land.grib\".format(year=year, month=month))"
   ]
  },
  {
   "cell_type": "code",
   "execution_count": null,
   "metadata": {},
   "outputs": [],
   "source": []
  }
 ],
 "metadata": {
  "colab": {
   "collapsed_sections": [],
   "name": "BNE TFP Demo.ipynb",
   "provenance": []
  },
  "kernelspec": {
   "display_name": "Python 3",
   "language": "python",
   "name": "python3"
  },
  "language_info": {
   "codemirror_mode": {
    "name": "ipython",
    "version": 3
   },
   "file_extension": ".py",
   "mimetype": "text/x-python",
   "name": "python",
   "nbconvert_exporter": "python",
   "pygments_lexer": "ipython3",
   "version": "3.8.5"
  }
 },
 "nbformat": 4,
 "nbformat_minor": 1
}
