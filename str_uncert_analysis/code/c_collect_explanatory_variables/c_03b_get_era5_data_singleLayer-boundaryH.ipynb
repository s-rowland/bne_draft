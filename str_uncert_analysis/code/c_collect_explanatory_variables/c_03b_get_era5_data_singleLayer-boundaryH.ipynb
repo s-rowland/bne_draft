{
 "cells": [
  {
   "cell_type": "markdown",
   "metadata": {
    "colab": {
     "base_uri": "https://localhost:8080/"
    },
    "id": "v0m8xce2x8ZC",
    "outputId": "817c403f-83a9-4401-9c9b-68c2439f35ff"
   },
   "source": [
    "# Downloadining Explanatory Variables from ERA5"
   ]
  },
  {
   "cell_type": "markdown",
   "metadata": {},
   "source": [
    "## 0 Preparation "
   ]
  },
  {
   "cell_type": "code",
   "execution_count": 1,
   "metadata": {},
   "outputs": [],
   "source": [
    "# 0.a. import modules\n",
    "import os\n",
    "import cdsapi"
   ]
  },
  {
   "cell_type": "code",
   "execution_count": 2,
   "metadata": {},
   "outputs": [],
   "source": [
    "# 0.b. set up directory \n",
    "# 0.b.i. define directory to place files\n",
    "home = os.getenv(\"HOME\")\n",
    "path = home + '/Desktop/BNE/bne_draft/str_uncert_analysis/data/explanatory_variables/raw/era5/'\n",
    "\n",
    "# 0.b..ii. check if file directory exists\n",
    "if not os.path.exists(path):\n",
    "    os.makedirs(path)\n",
    "\n",
    "# 0.b.iii. change directory to desired file location\n",
    "os.chdir(path)"
   ]
  },
  {
   "cell_type": "markdown",
   "metadata": {},
   "source": [
    "## 1 Doing Stuff"
   ]
  },
  {
   "cell_type": "code",
   "execution_count": 4,
   "metadata": {
    "scrolled": true
   },
   "outputs": [
    {
     "name": "stdout",
     "output_type": "stream",
     "text": [
      "=========================================================\n",
      "Downloading 2005-01\n"
     ]
    },
    {
     "name": "stderr",
     "output_type": "stream",
     "text": [
      "2022-03-19 10:56:46,469 INFO Welcome to the CDS\n",
      "2022-03-19 10:56:46,471 INFO Sending request to https://cds.climate.copernicus.eu/api/v2/resources/reanalysis-era5-single-levels\n",
      "2022-03-19 10:56:46,576 INFO Request is queued\n",
      "2022-03-19 10:56:47,668 INFO Request is running\n",
      "2022-03-19 10:57:00,219 INFO Request is completed\n",
      "2022-03-19 10:57:00,221 INFO Downloading https://download-0005.copernicus-climate.eu/cache-compute-0005/cache/data1/adaptor.mars.internal-1647701807.4644885-1434-1-1c8e401f-0cdc-439d-b33d-a96b179717c5.grib to 2005_01_boundaryH.grib (5.9M)\n",
      "2022-03-19 10:57:01,812 INFO Download rate 3.7M/s   \n",
      "2022-03-19 10:57:01,986 INFO Welcome to the CDS\n",
      "2022-03-19 10:57:01,988 INFO Sending request to https://cds.climate.copernicus.eu/api/v2/resources/reanalysis-era5-single-levels\n",
      "2022-03-19 10:57:02,085 INFO Request is queued\n"
     ]
    },
    {
     "name": "stdout",
     "output_type": "stream",
     "text": [
      "=========================================================\n",
      "Downloading 2005-02\n"
     ]
    },
    {
     "name": "stderr",
     "output_type": "stream",
     "text": [
      "2022-03-19 10:57:04,774 INFO Request is running\n",
      "2022-03-19 10:57:15,728 INFO Request is completed\n",
      "2022-03-19 10:57:15,729 INFO Downloading https://download-0005.copernicus-climate.eu/cache-compute-0005/cache/data6/adaptor.mars.internal-1647701824.072614-28733-7-b4739013-7176-427c-ba23-685a9a57ccde.grib to 2005_02_boundaryH.grib (5.3M)\n",
      "2022-03-19 10:57:17,087 INFO Download rate 3.9M/s   \n",
      "2022-03-19 10:57:17,263 INFO Welcome to the CDS\n",
      "2022-03-19 10:57:17,265 INFO Sending request to https://cds.climate.copernicus.eu/api/v2/resources/reanalysis-era5-single-levels\n",
      "2022-03-19 10:57:17,378 INFO Request is queued\n"
     ]
    },
    {
     "name": "stdout",
     "output_type": "stream",
     "text": [
      "=========================================================\n",
      "Downloading 2005-03\n"
     ]
    },
    {
     "name": "stderr",
     "output_type": "stream",
     "text": [
      "2022-03-19 10:57:20,061 INFO Request is running\n",
      "2022-03-19 10:57:31,025 INFO Request is completed\n",
      "2022-03-19 10:57:31,027 INFO Downloading https://download-0010.copernicus-climate.eu/cache-compute-0010/cache/data8/adaptor.mars.internal-1647701839.1283464-11917-1-16918089-adb0-4814-a675-dc7cdfbd1e30.grib to 2005_03_boundaryH.grib (5.9M)\n",
      "2022-03-19 10:57:32,191 INFO Download rate 5.1M/s   \n",
      "2022-03-19 10:57:32,362 INFO Welcome to the CDS\n",
      "2022-03-19 10:57:32,364 INFO Sending request to https://cds.climate.copernicus.eu/api/v2/resources/reanalysis-era5-single-levels\n",
      "2022-03-19 10:57:32,461 INFO Request is queued\n"
     ]
    },
    {
     "name": "stdout",
     "output_type": "stream",
     "text": [
      "=========================================================\n",
      "Downloading 2005-04\n"
     ]
    },
    {
     "name": "stderr",
     "output_type": "stream",
     "text": [
      "2022-03-19 10:57:37,487 INFO Request is running\n",
      "2022-03-19 10:57:53,791 INFO Request is completed\n",
      "2022-03-19 10:57:53,795 INFO Downloading https://download-0013.copernicus-climate.eu/cache-compute-0013/cache/data6/adaptor.mars.internal-1647701856.7353253-23215-1-a999779c-bde5-464c-957a-a0d7b2f1dd6b.grib to 2005_04_boundaryH.grib (5.7M)\n",
      "2022-03-19 10:57:55,844 INFO Download rate 2.8M/s   \n",
      "2022-03-19 10:57:56,022 INFO Welcome to the CDS\n",
      "2022-03-19 10:57:56,024 INFO Sending request to https://cds.climate.copernicus.eu/api/v2/resources/reanalysis-era5-single-levels\n"
     ]
    },
    {
     "name": "stdout",
     "output_type": "stream",
     "text": [
      "=========================================================\n",
      "Downloading 2005-05\n"
     ]
    },
    {
     "name": "stderr",
     "output_type": "stream",
     "text": [
      "2022-03-19 10:57:56,539 INFO Request is queued\n",
      "2022-03-19 10:57:57,832 INFO Request is running\n",
      "2022-03-19 10:58:10,385 INFO Request is completed\n",
      "2022-03-19 10:58:10,387 INFO Downloading https://download-0013.copernicus-climate.eu/cache-compute-0013/cache/data0/adaptor.mars.internal-1647701876.637453-22950-6-88924025-31b8-45e5-a2d5-70cc3b6c3120.grib to 2005_05_boundaryH.grib (5.9M)\n",
      "2022-03-19 10:58:11,693 INFO Download rate 4.5M/s   \n",
      "2022-03-19 10:58:11,867 INFO Welcome to the CDS\n",
      "2022-03-19 10:58:11,867 INFO Sending request to https://cds.climate.copernicus.eu/api/v2/resources/reanalysis-era5-single-levels\n",
      "2022-03-19 10:58:11,963 INFO Request is queued\n"
     ]
    },
    {
     "name": "stdout",
     "output_type": "stream",
     "text": [
      "=========================================================\n",
      "Downloading 2005-06\n"
     ]
    },
    {
     "name": "stderr",
     "output_type": "stream",
     "text": [
      "2022-03-19 10:58:13,056 INFO Request is running\n",
      "2022-03-19 10:58:25,608 INFO Request is completed\n",
      "2022-03-19 10:58:25,609 INFO Downloading https://download-0006.copernicus-climate.eu/cache-compute-0006/cache/data1/adaptor.mars.internal-1647701892.1958265-8841-19-9701e6cb-3dc8-4a1a-afe3-ec2a72d1d196.grib to 2005_06_boundaryH.grib (5.7M)\n",
      "2022-03-19 10:58:26,813 INFO Download rate 4.8M/s   \n",
      "2022-03-19 10:58:26,985 INFO Welcome to the CDS\n",
      "2022-03-19 10:58:26,987 INFO Sending request to https://cds.climate.copernicus.eu/api/v2/resources/reanalysis-era5-single-levels\n",
      "2022-03-19 10:58:27,081 INFO Request is queued\n"
     ]
    },
    {
     "name": "stdout",
     "output_type": "stream",
     "text": [
      "=========================================================\n",
      "Downloading 2005-07\n"
     ]
    },
    {
     "name": "stderr",
     "output_type": "stream",
     "text": [
      "2022-03-19 10:58:35,568 INFO Request is running\n",
      "2022-03-19 10:58:48,410 INFO Request is completed\n",
      "2022-03-19 10:58:48,412 INFO Downloading https://download-0014.copernicus-climate.eu/cache-compute-0014/cache/data4/adaptor.mars.internal-1647701913.3844893-21255-5-c8bd637b-13a9-4cd9-99c9-1319cd5b7400.grib to 2005_07_boundaryH.grib (5.9M)\n",
      "2022-03-19 10:58:49,571 INFO Download rate 5.1M/s   \n",
      "2022-03-19 10:58:49,749 INFO Welcome to the CDS\n",
      "2022-03-19 10:58:49,751 INFO Sending request to https://cds.climate.copernicus.eu/api/v2/resources/reanalysis-era5-single-levels\n"
     ]
    },
    {
     "name": "stdout",
     "output_type": "stream",
     "text": [
      "=========================================================\n",
      "Downloading 2005-08\n"
     ]
    },
    {
     "name": "stderr",
     "output_type": "stream",
     "text": [
      "2022-03-19 10:58:49,912 INFO Request is queued\n",
      "2022-03-19 10:58:51,007 INFO Request is running\n",
      "2022-03-19 10:59:03,556 INFO Request is completed\n",
      "2022-03-19 10:59:03,557 INFO Downloading https://download-0015.copernicus-climate.eu/cache-compute-0015/cache/data8/adaptor.mars.internal-1647701930.911889-15590-10-e2dcedca-8888-40e7-8406-b39b43338695.grib to 2005_08_boundaryH.grib (5.9M)\n",
      "2022-03-19 10:59:04,652 INFO Download rate 5.4M/s   \n",
      "2022-03-19 10:59:04,822 INFO Welcome to the CDS\n",
      "2022-03-19 10:59:04,822 INFO Sending request to https://cds.climate.copernicus.eu/api/v2/resources/reanalysis-era5-single-levels\n",
      "2022-03-19 10:59:04,913 INFO Request is queued\n"
     ]
    },
    {
     "name": "stdout",
     "output_type": "stream",
     "text": [
      "=========================================================\n",
      "Downloading 2005-09\n"
     ]
    },
    {
     "name": "stderr",
     "output_type": "stream",
     "text": [
      "2022-03-19 10:59:06,010 INFO Request is running\n",
      "2022-03-19 10:59:18,685 INFO Request is completed\n",
      "2022-03-19 10:59:18,687 INFO Downloading https://download-0006.copernicus-climate.eu/cache-compute-0006/cache/data9/adaptor.mars.internal-1647701945.4237733-14143-4-61ce9780-5f03-480b-9059-8643f89383b9.grib to 2005_09_boundaryH.grib (5.7M)\n",
      "2022-03-19 10:59:19,719 INFO Download rate 5.5M/s   \n",
      "2022-03-19 10:59:19,893 INFO Welcome to the CDS\n",
      "2022-03-19 10:59:19,895 INFO Sending request to https://cds.climate.copernicus.eu/api/v2/resources/reanalysis-era5-single-levels\n",
      "2022-03-19 10:59:19,993 INFO Request is queued\n"
     ]
    },
    {
     "name": "stdout",
     "output_type": "stream",
     "text": [
      "=========================================================\n",
      "Downloading 2005-10\n"
     ]
    },
    {
     "name": "stderr",
     "output_type": "stream",
     "text": [
      "2022-03-19 10:59:22,675 INFO Request is running\n",
      "2022-03-19 10:59:33,633 INFO Request is completed\n",
      "2022-03-19 10:59:33,635 INFO Downloading https://download-0007.copernicus-climate.eu/cache-compute-0007/cache/data0/adaptor.mars.internal-1647701961.149548-8731-15-6e77b9c7-b1fa-4f76-ad79-05528dd0d308.grib to 2005_10_boundaryH.grib (5.9M)\n",
      "2022-03-19 10:59:34,832 INFO Download rate 4.9M/s   \n",
      "2022-03-19 10:59:35,006 INFO Welcome to the CDS\n",
      "2022-03-19 10:59:35,008 INFO Sending request to https://cds.climate.copernicus.eu/api/v2/resources/reanalysis-era5-single-levels\n",
      "2022-03-19 10:59:35,108 INFO Request is queued\n"
     ]
    },
    {
     "name": "stdout",
     "output_type": "stream",
     "text": [
      "=========================================================\n",
      "Downloading 2005-11\n"
     ]
    },
    {
     "name": "stderr",
     "output_type": "stream",
     "text": [
      "2022-03-19 10:59:36,195 INFO Request is running\n",
      "2022-03-19 10:59:48,749 INFO Request is completed\n",
      "2022-03-19 10:59:48,752 INFO Downloading https://download-0011.copernicus-climate.eu/cache-compute-0011/cache/data8/adaptor.mars.internal-1647701975.1844509-14414-4-167be2cf-2bdd-4828-86d4-d6e54fb2f930.grib to 2005_11_boundaryH.grib (5.7M)\n",
      "2022-03-19 10:59:49,850 INFO Download rate 5.2M/s   \n",
      "2022-03-19 10:59:50,032 INFO Welcome to the CDS\n",
      "2022-03-19 10:59:50,034 INFO Sending request to https://cds.climate.copernicus.eu/api/v2/resources/reanalysis-era5-single-levels\n",
      "2022-03-19 10:59:50,128 INFO Request is queued\n"
     ]
    },
    {
     "name": "stdout",
     "output_type": "stream",
     "text": [
      "=========================================================\n",
      "Downloading 2005-12\n"
     ]
    },
    {
     "name": "stderr",
     "output_type": "stream",
     "text": [
      "2022-03-19 10:59:51,214 INFO Request is running\n",
      "2022-03-19 11:00:03,756 INFO Request is completed\n",
      "2022-03-19 11:00:03,758 INFO Downloading https://download-0000.copernicus-climate.eu/cache-compute-0000/cache/data1/adaptor.mars.internal-1647701990.587975-12219-18-a00c1758-821c-4b0c-a092-2af855992bb5.grib to 2005_12_boundaryH.grib (5.9M)\n",
      "2022-03-19 11:00:05,049 INFO Download rate 4.6M/s   \n"
     ]
    }
   ],
   "source": [
    "c = cdsapi.Client()\n",
    " \n",
    "first_year = 2005\n",
    "last_year = 2005\n",
    " \n",
    "for year in range(first_year, last_year + 1):\n",
    "    for month in range(1, 13):\n",
    "        print(\"=========================================================\")\n",
    "        print(\"Downloading {year}-{month:02d}\".format(year=year, month=month))\n",
    "        c.retrieve(\n",
    "            'reanalysis-era5-single-levels',\n",
    "            {\n",
    "                'product_type': 'reanalysis',\n",
    "                'variable': [\n",
    "                     'boundary_layer_height',\n",
    "                ],\n",
    "                'year': str(year),\n",
    "                'month': \"{month:02d}\".format(month=month),\n",
    "                'day': [\n",
    "                    '01', '02', '03',\n",
    "                    '04', '05', '06',\n",
    "                    '07', '08', '09',\n",
    "                    '10', '11', '12',\n",
    "                    '13', '14', '15',\n",
    "                    '16', '17', '18',\n",
    "                    '19', '20', '21',\n",
    "                    '22', '23', '24',\n",
    "                    '25', '26', '27',\n",
    "                    '28', '29', '30',\n",
    "                    '31',\n",
    "                ],\n",
    "                'time': [\n",
    "                    '00:00', '06:00', '12:00',\n",
    "                    '18:00',\n",
    "                ],\n",
    "                'area': [\n",
    "                    50, -125, 24,-66,\n",
    "                ],\n",
    "                'format': 'grib',\n",
    "            },\n",
    "            \"{year}_{month:02d}_boundaryH.grib\".format(year=year, month=month))"
   ]
  },
  {
   "cell_type": "code",
   "execution_count": null,
   "metadata": {},
   "outputs": [],
   "source": []
  }
 ],
 "metadata": {
  "colab": {
   "collapsed_sections": [],
   "name": "BNE TFP Demo.ipynb",
   "provenance": []
  },
  "kernelspec": {
   "display_name": "Python 3",
   "language": "python",
   "name": "python3"
  },
  "language_info": {
   "codemirror_mode": {
    "name": "ipython",
    "version": 3
   },
   "file_extension": ".py",
   "mimetype": "text/x-python",
   "name": "python",
   "nbconvert_exporter": "python",
   "pygments_lexer": "ipython3",
   "version": "3.8.5"
  }
 },
 "nbformat": 4,
 "nbformat_minor": 1
}
